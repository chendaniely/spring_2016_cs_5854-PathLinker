{
 "cells": [
  {
   "cell_type": "markdown",
   "metadata": {
    "slideshow": {
     "slide_type": "slide"
    }
   },
   "source": [
    "# PathLinker 2.0\n",
    "\n",
    "### Phillip Summers\n",
    "### Daniel Chen"
   ]
  },
  {
   "cell_type": "markdown",
   "metadata": {
    "slideshow": {
     "slide_type": "slide"
    }
   },
   "source": [
    "# what is the goal"
   ]
  },
  {
   "cell_type": "markdown",
   "metadata": {
    "slideshow": {
     "slide_type": "subslide"
    }
   },
   "source": [
    "# what is the goal\n",
    "\n",
    "Identify networks of biochemical reactions that guides cellular signals from receptors to transcription factors\n",
    "\n",
    "Computationally predict pathways with a minimum amount of false positives"
   ]
  },
  {
   "cell_type": "markdown",
   "metadata": {
    "slideshow": {
     "slide_type": "subslide"
    }
   },
   "source": [
    "# what is the goal\n",
    "\n",
    "Improve on the existing algorithm by utilizing data that is availiable but unleveraged"
   ]
  },
  {
   "cell_type": "markdown",
   "metadata": {
    "slideshow": {
     "slide_type": "slide"
    }
   },
   "source": [
    "# why you are doing it"
   ]
  },
  {
   "cell_type": "markdown",
   "metadata": {
    "slideshow": {
     "slide_type": "subslide"
    }
   },
   "source": [
    "# why you are doing it\n",
    "\n",
    "Generally, pathways are manually curated.\n",
    "\n",
    "A computational method that can accurately predict pathways will help guide researchers in designing experiments\n",
    "\n",
    "Currently when `PathLinker` is run on the Wnt Pathway, there are many edges that it finds that are not in the gold-standard curated list."
   ]
  },
  {
   "cell_type": "markdown",
   "metadata": {
    "slideshow": {
     "slide_type": "slide"
    }
   },
   "source": [
    "# how you are going about it"
   ]
  },
  {
   "cell_type": "markdown",
   "metadata": {
    "slideshow": {
     "slide_type": "subslide"
    }
   },
   "source": [
    "# how you are going about it\n",
    "\n",
    "Problem now is with false positives"
   ]
  },
  {
   "cell_type": "markdown",
   "metadata": {
    "slideshow": {
     "slide_type": "fragment"
    }
   },
   "source": [
    "we are going to build on the existing set of weights"
   ]
  },
  {
   "cell_type": "markdown",
   "metadata": {
    "slideshow": {
     "slide_type": "fragment"
    }
   },
   "source": [
    "by modifying those that are in the curated gold-standard,\n",
    "\n",
    "and those that are not in the curated gold-standard"
   ]
  },
  {
   "cell_type": "markdown",
   "metadata": {
    "slideshow": {
     "slide_type": "slide"
    }
   },
   "source": [
    "# what makes your angle different from similar approaches"
   ]
  },
  {
   "cell_type": "markdown",
   "metadata": {
    "slideshow": {
     "slide_type": "subslide"
    }
   },
   "source": [
    "# what makes your angle different from similar approaches\n",
    "\n",
    "- Pathlinker\n",
    "- Response Net\n",
    "- Page Rank\n",
    "- PCSF\n",
    "- IPA"
   ]
  },
  {
   "cell_type": "markdown",
   "metadata": {
    "slideshow": {
     "slide_type": "subslide"
    }
   },
   "source": [
    "# what makes your angle different from similar approaches\n",
    "\n",
    "Initally all edges were the same weight\n",
    "\n",
    "Then edges were weighted independently from the gold-standard curated pathways\n",
    "\n",
    "Edges were also weighted using `PageRank`"
   ]
  },
  {
   "cell_type": "markdown",
   "metadata": {
    "slideshow": {
     "slide_type": "subslide"
    }
   },
   "source": [
    "# what makes your angle different from similar approaches\n",
    "\n",
    "## Table of parmeters for sweep\n",
    "\n",
    "| Not in \t| In   \t|\n",
    "|--------\t|------\t|\n",
    "| .10    \t| 150% \t|\n",
    "| 25%    \t| 200% \t|\n",
    "| 50%    \t| 300% \t|\n",
    "| 75%    \t| 0.9  \t|"
   ]
  },
  {
   "cell_type": "markdown",
   "metadata": {
    "slideshow": {
     "slide_type": "slide"
    }
   },
   "source": [
    "# what progress you have made so far"
   ]
  },
  {
   "cell_type": "markdown",
   "metadata": {
    "slideshow": {
     "slide_type": "subslide"
    }
   },
   "source": [
    "# what progress you have made so far\n",
    "\n",
    "Getting `PathLinker` working"
   ]
  },
  {
   "cell_type": "markdown",
   "metadata": {
    "slideshow": {
     "slide_type": "fragment"
    }
   },
   "source": [
    "On multiple machines"
   ]
  },
  {
   "cell_type": "markdown",
   "metadata": {
    "slideshow": {
     "slide_type": "fragment"
    }
   },
   "source": [
    "Thanks Jeff `<3`"
   ]
  },
  {
   "cell_type": "markdown",
   "metadata": {
    "slideshow": {
     "slide_type": "subslide"
    }
   },
   "source": [
    "# what progress you have made so far\n",
    "\n",
    "Generate CV folds"
   ]
  },
  {
   "cell_type": "markdown",
   "metadata": {
    "slideshow": {
     "slide_type": "fragment"
    }
   },
   "source": [
    "Re-weight edges"
   ]
  },
  {
   "cell_type": "markdown",
   "metadata": {
    "slideshow": {
     "slide_type": "subslide"
    }
   },
   "source": [
    "<img src=\"midterm_results.png\" alt=\"results\" style=\"height: 400;\"/>"
   ]
  },
  {
   "cell_type": "markdown",
   "metadata": {
    "slideshow": {
     "slide_type": "slide"
    }
   },
   "source": [
    "# what you plan to do in the rest of the semester"
   ]
  },
  {
   "cell_type": "markdown",
   "metadata": {
    "slideshow": {
     "slide_type": "subslide"
    }
   },
   "source": [
    "# what you plan to do in the rest of the semester\n",
    "\n",
    "Cross-validate results in the Wnt-pathway by removing half the edges in Wnt,\n",
    "and seeing if the remaining half can be predicted\n",
    "\n",
    "Calculate precivion-recall\n",
    "\n",
    "Single isolated case detatched from current codebase"
   ]
  },
  {
   "cell_type": "markdown",
   "metadata": {
    "slideshow": {
     "slide_type": "slide"
    }
   },
   "source": [
    "# Questions\n",
    "\n",
    "https://github.com/chendaniely/spring_2016_cs_5854-PathLinker"
   ]
  },
  {
   "cell_type": "markdown",
   "metadata": {
    "slideshow": {
     "slide_type": "slide"
    }
   },
   "source": [
    "# backup slides"
   ]
  },
  {
   "cell_type": "markdown",
   "metadata": {
    "slideshow": {
     "slide_type": "subslide"
    }
   },
   "source": [
    "<img src=\"midterm_results.png\"/>"
   ]
  }
 ],
 "metadata": {
  "celltoolbar": "Slideshow",
  "kernelspec": {
   "display_name": "Python 3",
   "language": "python",
   "name": "python3"
  },
  "language_info": {
   "codemirror_mode": {
    "name": "ipython",
    "version": 3
   },
   "file_extension": ".py",
   "mimetype": "text/x-python",
   "name": "python",
   "nbconvert_exporter": "python",
   "pygments_lexer": "ipython3",
   "version": "3.4.4"
  }
 },
 "nbformat": 4,
 "nbformat_minor": 0
}
